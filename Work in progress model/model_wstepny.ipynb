{
 "cells": [
  {
   "cell_type": "markdown",
   "id": "straight-vision",
   "metadata": {},
   "source": [
    "# Kamień milowy 2"
   ]
  },
  {
   "cell_type": "markdown",
   "id": "focused-cause",
   "metadata": {},
   "source": [
    "## Wczytanie odpowiednich bibliotek, wczytanie ramki danych"
   ]
  },
  {
   "cell_type": "code",
   "execution_count": 1,
   "id": "academic-shakespeare",
   "metadata": {},
   "outputs": [],
   "source": [
    "import pandas as pd\n",
    "import numpy as np\n",
    "import seaborn as sns\n",
    "import matplotlib.pyplot as plt\n",
    "import matplotlib\n",
    "import warnings\n",
    "from sklearn.model_selection import train_test_split\n",
    "from sklearn.model_selection import cross_val_score\n",
    "from sklearn.metrics import plot_roc_curve\n",
    "from sklearn.metrics import roc_auc_score\n",
    "\n",
    "from pandas import json_normalize \n",
    "import requests\n",
    "\n",
    "warnings.filterwarnings(\"ignore\")"
   ]
  },
  {
   "cell_type": "code",
   "execution_count": 2,
   "id": "becoming-ethics",
   "metadata": {},
   "outputs": [
    {
     "data": {
      "text/html": [
       "<div>\n",
       "<style scoped>\n",
       "    .dataframe tbody tr th:only-of-type {\n",
       "        vertical-align: middle;\n",
       "    }\n",
       "\n",
       "    .dataframe tbody tr th {\n",
       "        vertical-align: top;\n",
       "    }\n",
       "\n",
       "    .dataframe thead th {\n",
       "        text-align: right;\n",
       "    }\n",
       "</style>\n",
       "<table border=\"1\" class=\"dataframe\">\n",
       "  <thead>\n",
       "    <tr style=\"text-align: right;\">\n",
       "      <th></th>\n",
       "      <th>meanfreq</th>\n",
       "      <th>sd</th>\n",
       "      <th>median</th>\n",
       "      <th>Q25</th>\n",
       "      <th>Q75</th>\n",
       "      <th>IQR</th>\n",
       "      <th>skew</th>\n",
       "      <th>kurt</th>\n",
       "      <th>sp.ent</th>\n",
       "      <th>sfm</th>\n",
       "      <th>...</th>\n",
       "      <th>centroid</th>\n",
       "      <th>meanfun</th>\n",
       "      <th>minfun</th>\n",
       "      <th>maxfun</th>\n",
       "      <th>meandom</th>\n",
       "      <th>mindom</th>\n",
       "      <th>maxdom</th>\n",
       "      <th>dfrange</th>\n",
       "      <th>modindx</th>\n",
       "      <th>label</th>\n",
       "    </tr>\n",
       "  </thead>\n",
       "  <tbody>\n",
       "    <tr>\n",
       "      <th>0</th>\n",
       "      <td>0.059781</td>\n",
       "      <td>0.064241</td>\n",
       "      <td>0.032027</td>\n",
       "      <td>0.015071</td>\n",
       "      <td>0.090193</td>\n",
       "      <td>0.075122</td>\n",
       "      <td>12.863462</td>\n",
       "      <td>274.402906</td>\n",
       "      <td>0.893369</td>\n",
       "      <td>0.491918</td>\n",
       "      <td>...</td>\n",
       "      <td>0.059781</td>\n",
       "      <td>0.084279</td>\n",
       "      <td>0.015702</td>\n",
       "      <td>0.275862</td>\n",
       "      <td>0.007812</td>\n",
       "      <td>0.007812</td>\n",
       "      <td>0.007812</td>\n",
       "      <td>0.000000</td>\n",
       "      <td>0.000000</td>\n",
       "      <td>male</td>\n",
       "    </tr>\n",
       "    <tr>\n",
       "      <th>1</th>\n",
       "      <td>0.066009</td>\n",
       "      <td>0.067310</td>\n",
       "      <td>0.040229</td>\n",
       "      <td>0.019414</td>\n",
       "      <td>0.092666</td>\n",
       "      <td>0.073252</td>\n",
       "      <td>22.423285</td>\n",
       "      <td>634.613855</td>\n",
       "      <td>0.892193</td>\n",
       "      <td>0.513724</td>\n",
       "      <td>...</td>\n",
       "      <td>0.066009</td>\n",
       "      <td>0.107937</td>\n",
       "      <td>0.015826</td>\n",
       "      <td>0.250000</td>\n",
       "      <td>0.009014</td>\n",
       "      <td>0.007812</td>\n",
       "      <td>0.054688</td>\n",
       "      <td>0.046875</td>\n",
       "      <td>0.052632</td>\n",
       "      <td>male</td>\n",
       "    </tr>\n",
       "    <tr>\n",
       "      <th>2</th>\n",
       "      <td>0.077316</td>\n",
       "      <td>0.083829</td>\n",
       "      <td>0.036718</td>\n",
       "      <td>0.008701</td>\n",
       "      <td>0.131908</td>\n",
       "      <td>0.123207</td>\n",
       "      <td>30.757155</td>\n",
       "      <td>1024.927705</td>\n",
       "      <td>0.846389</td>\n",
       "      <td>0.478905</td>\n",
       "      <td>...</td>\n",
       "      <td>0.077316</td>\n",
       "      <td>0.098706</td>\n",
       "      <td>0.015656</td>\n",
       "      <td>0.271186</td>\n",
       "      <td>0.007990</td>\n",
       "      <td>0.007812</td>\n",
       "      <td>0.015625</td>\n",
       "      <td>0.007812</td>\n",
       "      <td>0.046512</td>\n",
       "      <td>male</td>\n",
       "    </tr>\n",
       "    <tr>\n",
       "      <th>3</th>\n",
       "      <td>0.151228</td>\n",
       "      <td>0.072111</td>\n",
       "      <td>0.158011</td>\n",
       "      <td>0.096582</td>\n",
       "      <td>0.207955</td>\n",
       "      <td>0.111374</td>\n",
       "      <td>1.232831</td>\n",
       "      <td>4.177296</td>\n",
       "      <td>0.963322</td>\n",
       "      <td>0.727232</td>\n",
       "      <td>...</td>\n",
       "      <td>0.151228</td>\n",
       "      <td>0.088965</td>\n",
       "      <td>0.017798</td>\n",
       "      <td>0.250000</td>\n",
       "      <td>0.201497</td>\n",
       "      <td>0.007812</td>\n",
       "      <td>0.562500</td>\n",
       "      <td>0.554688</td>\n",
       "      <td>0.247119</td>\n",
       "      <td>male</td>\n",
       "    </tr>\n",
       "    <tr>\n",
       "      <th>4</th>\n",
       "      <td>0.135120</td>\n",
       "      <td>0.079146</td>\n",
       "      <td>0.124656</td>\n",
       "      <td>0.078720</td>\n",
       "      <td>0.206045</td>\n",
       "      <td>0.127325</td>\n",
       "      <td>1.101174</td>\n",
       "      <td>4.333713</td>\n",
       "      <td>0.971955</td>\n",
       "      <td>0.783568</td>\n",
       "      <td>...</td>\n",
       "      <td>0.135120</td>\n",
       "      <td>0.106398</td>\n",
       "      <td>0.016931</td>\n",
       "      <td>0.266667</td>\n",
       "      <td>0.712812</td>\n",
       "      <td>0.007812</td>\n",
       "      <td>5.484375</td>\n",
       "      <td>5.476562</td>\n",
       "      <td>0.208274</td>\n",
       "      <td>male</td>\n",
       "    </tr>\n",
       "  </tbody>\n",
       "</table>\n",
       "<p>5 rows × 21 columns</p>\n",
       "</div>"
      ],
      "text/plain": [
       "   meanfreq        sd    median       Q25       Q75       IQR       skew  \\\n",
       "0  0.059781  0.064241  0.032027  0.015071  0.090193  0.075122  12.863462   \n",
       "1  0.066009  0.067310  0.040229  0.019414  0.092666  0.073252  22.423285   \n",
       "2  0.077316  0.083829  0.036718  0.008701  0.131908  0.123207  30.757155   \n",
       "3  0.151228  0.072111  0.158011  0.096582  0.207955  0.111374   1.232831   \n",
       "4  0.135120  0.079146  0.124656  0.078720  0.206045  0.127325   1.101174   \n",
       "\n",
       "          kurt    sp.ent       sfm  ...  centroid   meanfun    minfun  \\\n",
       "0   274.402906  0.893369  0.491918  ...  0.059781  0.084279  0.015702   \n",
       "1   634.613855  0.892193  0.513724  ...  0.066009  0.107937  0.015826   \n",
       "2  1024.927705  0.846389  0.478905  ...  0.077316  0.098706  0.015656   \n",
       "3     4.177296  0.963322  0.727232  ...  0.151228  0.088965  0.017798   \n",
       "4     4.333713  0.971955  0.783568  ...  0.135120  0.106398  0.016931   \n",
       "\n",
       "     maxfun   meandom    mindom    maxdom   dfrange   modindx  label  \n",
       "0  0.275862  0.007812  0.007812  0.007812  0.000000  0.000000   male  \n",
       "1  0.250000  0.009014  0.007812  0.054688  0.046875  0.052632   male  \n",
       "2  0.271186  0.007990  0.007812  0.015625  0.007812  0.046512   male  \n",
       "3  0.250000  0.201497  0.007812  0.562500  0.554688  0.247119   male  \n",
       "4  0.266667  0.712812  0.007812  5.484375  5.476562  0.208274   male  \n",
       "\n",
       "[5 rows x 21 columns]"
      ]
     },
     "execution_count": 2,
     "metadata": {},
     "output_type": "execute_result"
    }
   ],
   "source": [
    "df=requests.get(\"https://api.apispreadsheets.com/api/dataset/gender-voice/\").json()\n",
    "from pandas import json_normalize \n",
    "voice_df = json_normalize(df, 'data')\n",
    "voice_df.head()"
   ]
  },
  {
   "cell_type": "markdown",
   "id": "respective-index",
   "metadata": {},
   "source": [
    "## Pozbycie się kolumn które są w pełni zależne od innych kolumn (patrz EDA)"
   ]
  },
  {
   "cell_type": "code",
   "execution_count": 3,
   "id": "hydraulic-martial",
   "metadata": {},
   "outputs": [],
   "source": [
    "voice_df = voice_df.drop(columns=[\"centroid\", \"kurt\", \"dfrange\"], axis=1)"
   ]
  },
  {
   "cell_type": "code",
   "execution_count": 4,
   "id": "mineral-thunder",
   "metadata": {},
   "outputs": [
    {
     "name": "stdout",
     "output_type": "stream",
     "text": [
      "<class 'pandas.core.frame.DataFrame'>\n",
      "RangeIndex: 3168 entries, 0 to 3167\n",
      "Data columns (total 18 columns):\n",
      " #   Column    Non-Null Count  Dtype  \n",
      "---  ------    --------------  -----  \n",
      " 0   meanfreq  3168 non-null   float64\n",
      " 1   sd        3168 non-null   float64\n",
      " 2   median    3168 non-null   float64\n",
      " 3   Q25       3168 non-null   float64\n",
      " 4   Q75       3168 non-null   float64\n",
      " 5   IQR       3168 non-null   float64\n",
      " 6   skew      3168 non-null   float64\n",
      " 7   sp.ent    3168 non-null   float64\n",
      " 8   sfm       3168 non-null   float64\n",
      " 9   mode      3168 non-null   float64\n",
      " 10  meanfun   3168 non-null   float64\n",
      " 11  minfun    3168 non-null   float64\n",
      " 12  maxfun    3168 non-null   float64\n",
      " 13  meandom   3168 non-null   float64\n",
      " 14  mindom    3168 non-null   float64\n",
      " 15  maxdom    3168 non-null   float64\n",
      " 16  modindx   3168 non-null   float64\n",
      " 17  label     3168 non-null   object \n",
      "dtypes: float64(17), object(1)\n",
      "memory usage: 445.6+ KB\n"
     ]
    }
   ],
   "source": [
    "voice_df.info()"
   ]
  },
  {
   "cell_type": "markdown",
   "id": "democratic-capture",
   "metadata": {},
   "source": [
    "## Narysujmy rozkłady pozostałych kolumn"
   ]
  },
  {
   "cell_type": "code",
   "execution_count": 5,
   "id": "literary-bridal",
   "metadata": {},
   "outputs": [
    {
     "data": {
      "image/png": "[encoded data removed]",
      "text/plain": [
       "<Figure size 1296x864 with 20 Axes>"
      ]
     },
     "metadata": {
      "needs_background": "light"
     },
     "output_type": "display_data"
    }
   ],
   "source": [
    "voice_df.hist(figsize=(18, 12), bins=30);\n",
    "plt.show()"
   ]
  },
  {
   "cell_type": "code",
   "execution_count": 6,
   "id": "enclosed-prescription",
   "metadata": {},
   "outputs": [
    {
     "data": {
      "text/plain": [
       "<Figure size 432x288 with 0 Axes>"
      ]
     },
     "execution_count": 6,
     "metadata": {},
     "output_type": "execute_result"
    },
    {
     "data": {
      "image/png": "[encoded data removed]",
      "text/plain": [
       "<Figure size 1296x864 with 1 Axes>"
      ]
     },
     "metadata": {
      "needs_background": "light"
     },
     "output_type": "display_data"
    },
    {
     "data": {
      "text/plain": [
       "<Figure size 432x288 with 0 Axes>"
      ]
     },
     "metadata": {},
     "output_type": "display_data"
    }
   ],
   "source": [
    "voice_df.drop(columns=[\"skew\", \"meandom\", \"maxdom\"], axis=1).plot(figsize=(18, 12), kind='box')\n",
    "plt.figure()"
   ]
  },
  {
   "cell_type": "code",
   "execution_count": 7,
   "id": "necessary-federal",
   "metadata": {},
   "outputs": [
    {
     "data": {
      "text/plain": [
       "<Figure size 432x288 with 0 Axes>"
      ]
     },
     "execution_count": 7,
     "metadata": {},
     "output_type": "execute_result"
    },
    {
     "data": {
      "image/png": "[encoded data removed]",
      "text/plain": [
       "<Figure size 1296x864 with 1 Axes>"
      ]
     },
     "metadata": {
      "needs_background": "light"
     },
     "output_type": "display_data"
    },
    {
     "data": {
      "text/plain": [
       "<Figure size 432x288 with 0 Axes>"
      ]
     },
     "metadata": {},
     "output_type": "display_data"
    }
   ],
   "source": [
    "voice_df[[\"skew\", \"meandom\", \"maxdom\"]].plot(figsize=(18, 12), kind='box')\n",
    "plt.figure()"
   ]
  },
  {
   "cell_type": "markdown",
   "id": "breeding-praise",
   "metadata": {},
   "source": [
    "### Przyjrzyjmy się kolumnie mindom. Mindom oznacza dokładnie minimal dominant frequency w trakcie trwanie dzwięku. Zauważmy, że większość z tych wartości jest zbliżona do zera. Odpowiada to dokładnie sytuacji, w której przez mikrofon nic nie mówiono. Jest to najprawdopodobniej charakterystyka otoczenia, co można zauważyć chociażby po następujących po sobie wierszach, w których wartości te są zbliżone do siebie. Z tego względu postanowiliśmy nie uwzględniać tej kolumny w dalszym budowaniu modelu"
   ]
  },
  {
   "cell_type": "code",
   "execution_count": 8,
   "id": "actual-words",
   "metadata": {},
   "outputs": [],
   "source": [
    "voice_df = voice_df.drop(columns=[\"mindom\"], axis=1)"
   ]
  },
  {
   "cell_type": "markdown",
   "id": "finite-transcript",
   "metadata": {},
   "source": [
    "## Zauważmy, że kolumna skew oraz maxfun są prawo oraz lewo skośne. Dokonajmy odpowiednich transformacji"
   ]
  },
  {
   "cell_type": "code",
   "execution_count": 9,
   "id": "emotional-damages",
   "metadata": {},
   "outputs": [],
   "source": [
    "voice_df[\"skew\"] = np.log1p(voice_df[\"skew\"])\n",
    "voice_df[\"modindx\"] = np.log1p(voice_df[\"modindx\"])\n",
    "\n",
    "voice_df[\"maxfun\"] = voice_df[\"maxfun\"]**3"
   ]
  },
  {
   "cell_type": "markdown",
   "id": "victorian-former",
   "metadata": {},
   "source": [
    "## Sprawdźmy, czy któryś z naszych rozkładów jest zbliżony do rozkładu normalnego"
   ]
  },
  {
   "cell_type": "code",
   "execution_count": 10,
   "id": "piano-gregory",
   "metadata": {},
   "outputs": [
    {
     "name": "stdout",
     "output_type": "stream",
     "text": [
      "[0, 0, 0, 0, 0, 0, 0, 0, 0, 0, 0, 0, 0, 0, 0, 0, 0]\n"
     ]
    }
   ],
   "source": [
    "from scipy import stats\n",
    "\n",
    "alpha =  0.05\n",
    "cols = voice_df.columns.values\n",
    "cols = cols[0:20]\n",
    "cols_test = []\n",
    "for col in cols:\n",
    "    k2, p = stats.normaltest(voice_df.minfun)\n",
    "    \n",
    "    if p < alpha: \n",
    "        cols_test.append(0)\n",
    "    else:\n",
    "        cols_test.append(1)\n",
    "print(cols_test)"
   ]
  },
  {
   "cell_type": "markdown",
   "id": "tracked-kennedy",
   "metadata": {},
   "source": [
    "## Jak możemy zauważyć żadna z naszych zmiennych nie posiada rozkładu normalnego. Nie będziemy więc mogli się posłużyć metodami pozbywania się outlierów przeznaczonych dla rozkładów normalnych"
   ]
  },
  {
   "cell_type": "markdown",
   "id": "usual-software",
   "metadata": {},
   "source": [
    "### Przyjrzyjmy się kolumnie mode. Określa ona częstotliwość modalną. Zauważmy, że w bardzo wielu próbkach częstotliwość modalna wynosi zero, a co za tym idzie największą część częstotliwości głosu stanowiły momenty ciszy. Jednak nie zawsze oznacza to, że znacząca część nagrania stanowiła cisza. Ponieważ nie jesteśmy w stanie określić dokładnie na tak przerobionych danych ile dokładnie ona trwała, postanowiliśmy usunąć tylko i wyłącznie te wiersze, dla których Q25 wynosiło mniej niż 60Hz, gdyż to oznacza, że 25% czasu stanowiła cisza. 60Hz, gdyż głos męski zaczyna swoje częstotliwości w granicach 85Hz, także dodaliśmy jeszcze pewien gap, aby nie wyrzucić zbyt wiele wierszy"
   ]
  },
  {
   "cell_type": "code",
   "execution_count": 11,
   "id": "quick-maldives",
   "metadata": {},
   "outputs": [],
   "source": [
    "voice_df = voice_df[voice_df[\"Q25\"] > 0.060]"
   ]
  },
  {
   "cell_type": "code",
   "execution_count": 12,
   "id": "dominant-reservoir",
   "metadata": {},
   "outputs": [
    {
     "data": {
      "text/html": [
       "<div>\n",
       "<style scoped>\n",
       "    .dataframe tbody tr th:only-of-type {\n",
       "        vertical-align: middle;\n",
       "    }\n",
       "\n",
       "    .dataframe tbody tr th {\n",
       "        vertical-align: top;\n",
       "    }\n",
       "\n",
       "    .dataframe thead th {\n",
       "        text-align: right;\n",
       "    }\n",
       "</style>\n",
       "<table border=\"1\" class=\"dataframe\">\n",
       "  <thead>\n",
       "    <tr style=\"text-align: right;\">\n",
       "      <th></th>\n",
       "      <th>meanfreq</th>\n",
       "      <th>sd</th>\n",
       "      <th>median</th>\n",
       "      <th>Q25</th>\n",
       "      <th>Q75</th>\n",
       "      <th>IQR</th>\n",
       "      <th>skew</th>\n",
       "      <th>sp.ent</th>\n",
       "      <th>sfm</th>\n",
       "      <th>mode</th>\n",
       "      <th>meanfun</th>\n",
       "      <th>minfun</th>\n",
       "      <th>maxfun</th>\n",
       "      <th>meandom</th>\n",
       "      <th>maxdom</th>\n",
       "      <th>modindx</th>\n",
       "      <th>label</th>\n",
       "    </tr>\n",
       "  </thead>\n",
       "  <tbody>\n",
       "    <tr>\n",
       "      <th>3</th>\n",
       "      <td>0.151228</td>\n",
       "      <td>0.072111</td>\n",
       "      <td>0.158011</td>\n",
       "      <td>0.096582</td>\n",
       "      <td>0.207955</td>\n",
       "      <td>0.111374</td>\n",
       "      <td>0.803270</td>\n",
       "      <td>0.963322</td>\n",
       "      <td>0.727232</td>\n",
       "      <td>0.083878</td>\n",
       "      <td>0.088965</td>\n",
       "      <td>0.017798</td>\n",
       "      <td>0.015625</td>\n",
       "      <td>0.201497</td>\n",
       "      <td>0.562500</td>\n",
       "      <td>0.220836</td>\n",
       "      <td>male</td>\n",
       "    </tr>\n",
       "    <tr>\n",
       "      <th>4</th>\n",
       "      <td>0.135120</td>\n",
       "      <td>0.079146</td>\n",
       "      <td>0.124656</td>\n",
       "      <td>0.078720</td>\n",
       "      <td>0.206045</td>\n",
       "      <td>0.127325</td>\n",
       "      <td>0.742496</td>\n",
       "      <td>0.971955</td>\n",
       "      <td>0.783568</td>\n",
       "      <td>0.104261</td>\n",
       "      <td>0.106398</td>\n",
       "      <td>0.016931</td>\n",
       "      <td>0.018963</td>\n",
       "      <td>0.712812</td>\n",
       "      <td>5.484375</td>\n",
       "      <td>0.189193</td>\n",
       "      <td>male</td>\n",
       "    </tr>\n",
       "    <tr>\n",
       "      <th>5</th>\n",
       "      <td>0.132786</td>\n",
       "      <td>0.079557</td>\n",
       "      <td>0.119090</td>\n",
       "      <td>0.067958</td>\n",
       "      <td>0.209592</td>\n",
       "      <td>0.141634</td>\n",
       "      <td>1.075877</td>\n",
       "      <td>0.963181</td>\n",
       "      <td>0.738307</td>\n",
       "      <td>0.112555</td>\n",
       "      <td>0.110132</td>\n",
       "      <td>0.017112</td>\n",
       "      <td>0.016381</td>\n",
       "      <td>0.298222</td>\n",
       "      <td>2.726562</td>\n",
       "      <td>0.117925</td>\n",
       "      <td>male</td>\n",
       "    </tr>\n",
       "    <tr>\n",
       "      <th>6</th>\n",
       "      <td>0.150762</td>\n",
       "      <td>0.074463</td>\n",
       "      <td>0.160106</td>\n",
       "      <td>0.092899</td>\n",
       "      <td>0.205718</td>\n",
       "      <td>0.112819</td>\n",
       "      <td>0.928474</td>\n",
       "      <td>0.967573</td>\n",
       "      <td>0.762638</td>\n",
       "      <td>0.086197</td>\n",
       "      <td>0.105945</td>\n",
       "      <td>0.026230</td>\n",
       "      <td>0.018963</td>\n",
       "      <td>0.479620</td>\n",
       "      <td>5.312500</td>\n",
       "      <td>0.116887</td>\n",
       "      <td>male</td>\n",
       "    </tr>\n",
       "    <tr>\n",
       "      <th>7</th>\n",
       "      <td>0.160514</td>\n",
       "      <td>0.076767</td>\n",
       "      <td>0.144337</td>\n",
       "      <td>0.110532</td>\n",
       "      <td>0.231962</td>\n",
       "      <td>0.121430</td>\n",
       "      <td>0.874283</td>\n",
       "      <td>0.959255</td>\n",
       "      <td>0.719858</td>\n",
       "      <td>0.128324</td>\n",
       "      <td>0.093052</td>\n",
       "      <td>0.017758</td>\n",
       "      <td>0.002995</td>\n",
       "      <td>0.301339</td>\n",
       "      <td>0.539062</td>\n",
       "      <td>0.249931</td>\n",
       "      <td>male</td>\n",
       "    </tr>\n",
       "    <tr>\n",
       "      <th>...</th>\n",
       "      <td>...</td>\n",
       "      <td>...</td>\n",
       "      <td>...</td>\n",
       "      <td>...</td>\n",
       "      <td>...</td>\n",
       "      <td>...</td>\n",
       "      <td>...</td>\n",
       "      <td>...</td>\n",
       "      <td>...</td>\n",
       "      <td>...</td>\n",
       "      <td>...</td>\n",
       "      <td>...</td>\n",
       "      <td>...</td>\n",
       "      <td>...</td>\n",
       "      <td>...</td>\n",
       "      <td>...</td>\n",
       "      <td>...</td>\n",
       "    </tr>\n",
       "    <tr>\n",
       "      <th>3157</th>\n",
       "      <td>0.203627</td>\n",
       "      <td>0.041529</td>\n",
       "      <td>0.204104</td>\n",
       "      <td>0.175661</td>\n",
       "      <td>0.239122</td>\n",
       "      <td>0.063461</td>\n",
       "      <td>0.901369</td>\n",
       "      <td>0.903458</td>\n",
       "      <td>0.246953</td>\n",
       "      <td>0.208821</td>\n",
       "      <td>0.146783</td>\n",
       "      <td>0.020566</td>\n",
       "      <td>0.018046</td>\n",
       "      <td>0.875558</td>\n",
       "      <td>6.898438</td>\n",
       "      <td>0.135870</td>\n",
       "      <td>female</td>\n",
       "    </tr>\n",
       "    <tr>\n",
       "      <th>3158</th>\n",
       "      <td>0.183667</td>\n",
       "      <td>0.040607</td>\n",
       "      <td>0.182534</td>\n",
       "      <td>0.156480</td>\n",
       "      <td>0.207646</td>\n",
       "      <td>0.051166</td>\n",
       "      <td>1.116497</td>\n",
       "      <td>0.898138</td>\n",
       "      <td>0.313925</td>\n",
       "      <td>0.177040</td>\n",
       "      <td>0.149237</td>\n",
       "      <td>0.018648</td>\n",
       "      <td>0.018046</td>\n",
       "      <td>0.550312</td>\n",
       "      <td>3.421875</td>\n",
       "      <td>0.154011</td>\n",
       "      <td>female</td>\n",
       "    </tr>\n",
       "    <tr>\n",
       "      <th>3159</th>\n",
       "      <td>0.168794</td>\n",
       "      <td>0.085842</td>\n",
       "      <td>0.188980</td>\n",
       "      <td>0.095558</td>\n",
       "      <td>0.240229</td>\n",
       "      <td>0.144671</td>\n",
       "      <td>0.901075</td>\n",
       "      <td>0.956201</td>\n",
       "      <td>0.706861</td>\n",
       "      <td>0.184442</td>\n",
       "      <td>0.182863</td>\n",
       "      <td>0.020699</td>\n",
       "      <td>0.019944</td>\n",
       "      <td>0.988281</td>\n",
       "      <td>5.882812</td>\n",
       "      <td>0.237927</td>\n",
       "      <td>female</td>\n",
       "    </tr>\n",
       "    <tr>\n",
       "      <th>3161</th>\n",
       "      <td>0.170656</td>\n",
       "      <td>0.081237</td>\n",
       "      <td>0.184277</td>\n",
       "      <td>0.113012</td>\n",
       "      <td>0.239096</td>\n",
       "      <td>0.126084</td>\n",
       "      <td>0.866367</td>\n",
       "      <td>0.950750</td>\n",
       "      <td>0.658558</td>\n",
       "      <td>0.161506</td>\n",
       "      <td>0.198475</td>\n",
       "      <td>0.160000</td>\n",
       "      <td>0.016381</td>\n",
       "      <td>0.414062</td>\n",
       "      <td>0.734375</td>\n",
       "      <td>0.290367</td>\n",
       "      <td>female</td>\n",
       "    </tr>\n",
       "    <tr>\n",
       "      <th>3167</th>\n",
       "      <td>0.165509</td>\n",
       "      <td>0.092884</td>\n",
       "      <td>0.183044</td>\n",
       "      <td>0.070072</td>\n",
       "      <td>0.250827</td>\n",
       "      <td>0.180756</td>\n",
       "      <td>0.995113</td>\n",
       "      <td>0.938829</td>\n",
       "      <td>0.601529</td>\n",
       "      <td>0.267702</td>\n",
       "      <td>0.185607</td>\n",
       "      <td>0.062257</td>\n",
       "      <td>0.019944</td>\n",
       "      <td>0.227022</td>\n",
       "      <td>0.554688</td>\n",
       "      <td>0.300105</td>\n",
       "      <td>female</td>\n",
       "    </tr>\n",
       "  </tbody>\n",
       "</table>\n",
       "<p>2915 rows × 17 columns</p>\n",
       "</div>"
      ],
      "text/plain": [
       "      meanfreq        sd    median       Q25       Q75       IQR      skew  \\\n",
       "3     0.151228  0.072111  0.158011  0.096582  0.207955  0.111374  0.803270   \n",
       "4     0.135120  0.079146  0.124656  0.078720  0.206045  0.127325  0.742496   \n",
       "5     0.132786  0.079557  0.119090  0.067958  0.209592  0.141634  1.075877   \n",
       "6     0.150762  0.074463  0.160106  0.092899  0.205718  0.112819  0.928474   \n",
       "7     0.160514  0.076767  0.144337  0.110532  0.231962  0.121430  0.874283   \n",
       "...        ...       ...       ...       ...       ...       ...       ...   \n",
       "3157  0.203627  0.041529  0.204104  0.175661  0.239122  0.063461  0.901369   \n",
       "3158  0.183667  0.040607  0.182534  0.156480  0.207646  0.051166  1.116497   \n",
       "3159  0.168794  0.085842  0.188980  0.095558  0.240229  0.144671  0.901075   \n",
       "3161  0.170656  0.081237  0.184277  0.113012  0.239096  0.126084  0.866367   \n",
       "3167  0.165509  0.092884  0.183044  0.070072  0.250827  0.180756  0.995113   \n",
       "\n",
       "        sp.ent       sfm      mode   meanfun    minfun    maxfun   meandom  \\\n",
       "3     0.963322  0.727232  0.083878  0.088965  0.017798  0.015625  0.201497   \n",
       "4     0.971955  0.783568  0.104261  0.106398  0.016931  0.018963  0.712812   \n",
       "5     0.963181  0.738307  0.112555  0.110132  0.017112  0.016381  0.298222   \n",
       "6     0.967573  0.762638  0.086197  0.105945  0.026230  0.018963  0.479620   \n",
       "7     0.959255  0.719858  0.128324  0.093052  0.017758  0.002995  0.301339   \n",
       "...        ...       ...       ...       ...       ...       ...       ...   \n",
       "3157  0.903458  0.246953  0.208821  0.146783  0.020566  0.018046  0.875558   \n",
       "3158  0.898138  0.313925  0.177040  0.149237  0.018648  0.018046  0.550312   \n",
       "3159  0.956201  0.706861  0.184442  0.182863  0.020699  0.019944  0.988281   \n",
       "3161  0.950750  0.658558  0.161506  0.198475  0.160000  0.016381  0.414062   \n",
       "3167  0.938829  0.601529  0.267702  0.185607  0.062257  0.019944  0.227022   \n",
       "\n",
       "        maxdom   modindx   label  \n",
       "3     0.562500  0.220836    male  \n",
       "4     5.484375  0.189193    male  \n",
       "5     2.726562  0.117925    male  \n",
       "6     5.312500  0.116887    male  \n",
       "7     0.539062  0.249931    male  \n",
       "...        ...       ...     ...  \n",
       "3157  6.898438  0.135870  female  \n",
       "3158  3.421875  0.154011  female  \n",
       "3159  5.882812  0.237927  female  \n",
       "3161  0.734375  0.290367  female  \n",
       "3167  0.554688  0.300105  female  \n",
       "\n",
       "[2915 rows x 17 columns]"
      ]
     },
     "execution_count": 12,
     "metadata": {},
     "output_type": "execute_result"
    }
   ],
   "source": [
    "voice_df"
   ]
  },
  {
   "cell_type": "code",
   "execution_count": 13,
   "id": "dimensional-settlement",
   "metadata": {},
   "outputs": [],
   "source": [
    "from sklearn.preprocessing import OrdinalEncoder\n",
    "\n",
    "encoder = OrdinalEncoder()\n",
    "voice_df[\"label\"] = encoder.fit_transform(voice_df[[\"label\"]])"
   ]
  },
  {
   "cell_type": "code",
   "execution_count": 14,
   "id": "funny-robin",
   "metadata": {},
   "outputs": [],
   "source": [
    "X = voice_df.drop([\"label\"], axis = 1)\n",
    "y = voice_df[[\"label\"]]"
   ]
  },
  {
   "cell_type": "code",
   "execution_count": 15,
   "id": "limited-milton",
   "metadata": {},
   "outputs": [],
   "source": [
    "X_train, X_test, y_train, y_test = train_test_split(X, y, test_size=0.25)"
   ]
  },
  {
   "cell_type": "markdown",
   "id": "pleased-plasma",
   "metadata": {},
   "source": [
    "## Wybór modelu"
   ]
  },
  {
   "cell_type": "markdown",
   "id": "selected-italian",
   "metadata": {},
   "source": [
    "### Dokładność modeli porównywaliśmy na podstawie Accuracy oraz Area under curve. Zdecydowaliśmy się na wybranie ogólniejszej miary oceny klasyfikatora - accuracy, ponieważ nie interesuję nas tak naprawdę rozróżnienie FP od FN"
   ]
  },
  {
   "cell_type": "markdown",
   "id": "three-insulation",
   "metadata": {},
   "source": [
    "### Dla wszystkich modeli  (dla których miało to sens) obliczyliśmy ważność zmiennych, przedstawiliśmy przykładową klasyfikacje oraz narysowaliśmy zmienną ROC"
   ]
  },
  {
   "cell_type": "markdown",
   "id": "integral-integral",
   "metadata": {},
   "source": [
    "# SVM"
   ]
  },
  {
   "cell_type": "code",
   "execution_count": 16,
   "id": "comfortable-postage",
   "metadata": {},
   "outputs": [
    {
     "name": "stdout",
     "output_type": "stream",
     "text": [
      "y:     [1.0, 0.0, 0.0, 1.0, 1.0, 0.0, 0.0, 0.0, 1.0, 1.0]\n",
      "y_hat: [1.0, 0.0, 0.0, 1.0, 1.0, 0.0, 1.0, 0.0, 0.0, 0.0]\n"
     ]
    }
   ],
   "source": [
    "from sklearn.svm import SVC\n",
    "svm = SVC(probability=True)\n",
    "\n",
    "svm.fit(X_train, y_train)\n",
    "y_hat = svm.predict(X_test)\n",
    "print('y:     ' + str(y_hat[0:10].tolist()) + '\\ny_hat: ' + str(y_test[\"label\"].tolist()[0:10]))"
   ]
  },
  {
   "cell_type": "code",
   "execution_count": 17,
   "id": "disturbed-flashing",
   "metadata": {},
   "outputs": [
    {
     "data": {
      "text/plain": [
       "0.7396259944452291"
      ]
     },
     "execution_count": 17,
     "metadata": {},
     "output_type": "execute_result"
    }
   ],
   "source": [
    "score = cross_val_score(svm, X, y, scoring='accuracy', cv = 10)\n",
    "np.mean(score)"
   ]
  },
  {
   "cell_type": "code",
   "execution_count": 18,
   "id": "noticed-grass",
   "metadata": {
    "scrolled": true
   },
   "outputs": [
    {
     "data": {
      "image/png": "[encoded data removed]",
      "text/plain": [
       "<Figure size 432x288 with 1 Axes>"
      ]
     },
     "metadata": {
      "needs_background": "light"
     },
     "output_type": "display_data"
    }
   ],
   "source": [
    "plot_roc_curve(svm, X_test, y_test);"
   ]
  },
  {
   "cell_type": "code",
   "execution_count": 19,
   "id": "authorized-fishing",
   "metadata": {},
   "outputs": [
    {
     "data": {
      "text/plain": [
       "0.8635004530353367"
      ]
     },
     "execution_count": 19,
     "metadata": {},
     "output_type": "execute_result"
    }
   ],
   "source": [
    "roc_auc_score(y_test, svm.predict_proba(X_test)[:,1])"
   ]
  },
  {
   "cell_type": "markdown",
   "id": "possible-compound",
   "metadata": {},
   "source": [
    "# KNNeighbors"
   ]
  },
  {
   "cell_type": "code",
   "execution_count": 20,
   "id": "danish-school",
   "metadata": {},
   "outputs": [
    {
     "name": "stdout",
     "output_type": "stream",
     "text": [
      "y:     [1.0, 0.0, 0.0, 1.0, 0.0, 0.0, 0.0, 0.0, 0.0, 0.0]\n",
      "y_hat: [1.0, 0.0, 0.0, 1.0, 1.0, 0.0, 1.0, 0.0, 0.0, 0.0]\n"
     ]
    }
   ],
   "source": [
    "from sklearn.neighbors import KNeighborsClassifier\n",
    "\n",
    "knn = KNeighborsClassifier(n_neighbors=4)\n",
    "\n",
    "knn.fit(X_train, y_train)\n",
    "y_hat = knn.predict(X_test)\n",
    "print('y:     ' + str(y_hat[0:10].tolist()) + '\\ny_hat: ' + str(y_test[\"label\"].tolist()[0:10]))"
   ]
  },
  {
   "cell_type": "code",
   "execution_count": 21,
   "id": "outdoor-preview",
   "metadata": {},
   "outputs": [
    {
     "data": {
      "text/plain": [
       "0.7903532928494093"
      ]
     },
     "execution_count": 21,
     "metadata": {},
     "output_type": "execute_result"
    }
   ],
   "source": [
    "score = cross_val_score(knn, X, y, scoring='accuracy', cv = 10)\n",
    "np.mean(score)"
   ]
  },
  {
   "cell_type": "code",
   "execution_count": 22,
   "id": "optical-combination",
   "metadata": {
    "scrolled": false
   },
   "outputs": [
    {
     "data": {
      "image/png": "[encoded data removed]",
      "text/plain": [
       "<Figure size 432x288 with 1 Axes>"
      ]
     },
     "metadata": {
      "needs_background": "light"
     },
     "output_type": "display_data"
    }
   ],
   "source": [
    "plot_roc_curve(knn, X_test, y_test);"
   ]
  },
  {
   "cell_type": "code",
   "execution_count": 23,
   "id": "joint-remainder",
   "metadata": {
    "scrolled": false
   },
   "outputs": [
    {
     "data": {
      "text/plain": [
       "0.9038772274237391"
      ]
     },
     "execution_count": 23,
     "metadata": {},
     "output_type": "execute_result"
    }
   ],
   "source": [
    "roc_auc_score(y_test, knn.predict_proba(X_test)[:,1])"
   ]
  },
  {
   "cell_type": "markdown",
   "id": "broke-batman",
   "metadata": {},
   "source": [
    "# Regresja logistyczna"
   ]
  },
  {
   "cell_type": "code",
   "execution_count": 24,
   "id": "immediate-guide",
   "metadata": {},
   "outputs": [
    {
     "name": "stdout",
     "output_type": "stream",
     "text": [
      "y:     [1.0, 0.0, 0.0, 1.0, 1.0, 0.0, 1.0, 0.0, 0.0, 0.0]\n",
      "y_hat: [1.0, 0.0, 0.0, 1.0, 1.0, 0.0, 1.0, 0.0, 0.0, 0.0]\n"
     ]
    }
   ],
   "source": [
    "from sklearn.linear_model import LogisticRegression\n",
    "logistic_regression = LogisticRegression(max_iter=1000)\n",
    "\n",
    "logistic_regression.fit(X_train,y_train)\n",
    "y_hat = logistic_regression.predict(X_test)\n",
    "print('y:     ' + str(y_hat[0:10].tolist()) + '\\ny_hat: ' + str(y_test[\"label\"].tolist()[0:10]))"
   ]
  },
  {
   "cell_type": "code",
   "execution_count": 25,
   "id": "studied-hazard",
   "metadata": {},
   "outputs": [
    {
     "data": {
      "text/plain": [
       "0.91805888998729"
      ]
     },
     "execution_count": 25,
     "metadata": {},
     "output_type": "execute_result"
    }
   ],
   "source": [
    "score = cross_val_score(logistic_regression, X, y, scoring='accuracy', cv = 10)\n",
    "np.mean(score)"
   ]
  },
  {
   "cell_type": "code",
   "execution_count": 26,
   "id": "other-cover",
   "metadata": {
    "scrolled": true
   },
   "outputs": [
    {
     "data": {
      "image/png": "[encoded data removed]",
      "text/plain": [
       "<Figure size 432x288 with 1 Axes>"
      ]
     },
     "metadata": {
      "needs_background": "light"
     },
     "output_type": "display_data"
    }
   ],
   "source": [
    "plot_roc_curve(logistic_regression, X_test, y_test);"
   ]
  },
  {
   "cell_type": "code",
   "execution_count": 27,
   "id": "greenhouse-minute",
   "metadata": {
    "scrolled": false
   },
   "outputs": [
    {
     "data": {
      "text/plain": [
       "0.9725309574146783"
      ]
     },
     "execution_count": 27,
     "metadata": {},
     "output_type": "execute_result"
    }
   ],
   "source": [
    "roc_auc_score(y_test, logistic_regression.predict_proba(X_test)[:,1])"
   ]
  },
  {
   "cell_type": "code",
   "execution_count": 19,
   "id": "least-textbook",
   "metadata": {
    "scrolled": false
   },
   "outputs": [
    {
     "data": {
      "text/html": [
       "<div>\n",
       "<style scoped>\n",
       "    .dataframe tbody tr th:only-of-type {\n",
       "        vertical-align: middle;\n",
       "    }\n",
       "\n",
       "    .dataframe tbody tr th {\n",
       "        vertical-align: top;\n",
       "    }\n",
       "\n",
       "    .dataframe thead th {\n",
       "        text-align: right;\n",
       "    }\n",
       "</style>\n",
       "<table border=\"1\" class=\"dataframe\">\n",
       "  <thead>\n",
       "    <tr style=\"text-align: right;\">\n",
       "      <th></th>\n",
       "      <th>Variable</th>\n",
       "      <th>|Coefficient|</th>\n",
       "    </tr>\n",
       "  </thead>\n",
       "  <tbody>\n",
       "    <tr>\n",
       "      <th>0</th>\n",
       "      <td>meanfun</td>\n",
       "      <td>16.065356</td>\n",
       "    </tr>\n",
       "    <tr>\n",
       "      <th>1</th>\n",
       "      <td>IQR</td>\n",
       "      <td>8.288698</td>\n",
       "    </tr>\n",
       "    <tr>\n",
       "      <th>2</th>\n",
       "      <td>Q25</td>\n",
       "      <td>5.467757</td>\n",
       "    </tr>\n",
       "    <tr>\n",
       "      <th>3</th>\n",
       "      <td>sp.ent</td>\n",
       "      <td>4.327213</td>\n",
       "    </tr>\n",
       "    <tr>\n",
       "      <th>4</th>\n",
       "      <td>Q75</td>\n",
       "      <td>2.820941</td>\n",
       "    </tr>\n",
       "    <tr>\n",
       "      <th>5</th>\n",
       "      <td>maxfun</td>\n",
       "      <td>2.258360</td>\n",
       "    </tr>\n",
       "    <tr>\n",
       "      <th>6</th>\n",
       "      <td>sd</td>\n",
       "      <td>1.502921</td>\n",
       "    </tr>\n",
       "    <tr>\n",
       "      <th>7</th>\n",
       "      <td>mindom</td>\n",
       "      <td>1.023748</td>\n",
       "    </tr>\n",
       "    <tr>\n",
       "      <th>8</th>\n",
       "      <td>median</td>\n",
       "      <td>0.841442</td>\n",
       "    </tr>\n",
       "    <tr>\n",
       "      <th>9</th>\n",
       "      <td>modindx</td>\n",
       "      <td>0.645621</td>\n",
       "    </tr>\n",
       "    <tr>\n",
       "      <th>10</th>\n",
       "      <td>centroid</td>\n",
       "      <td>0.587137</td>\n",
       "    </tr>\n",
       "    <tr>\n",
       "      <th>11</th>\n",
       "      <td>meanfreq</td>\n",
       "      <td>0.587137</td>\n",
       "    </tr>\n",
       "    <tr>\n",
       "      <th>12</th>\n",
       "      <td>maxdom</td>\n",
       "      <td>0.523953</td>\n",
       "    </tr>\n",
       "    <tr>\n",
       "      <th>13</th>\n",
       "      <td>sfm</td>\n",
       "      <td>0.513360</td>\n",
       "    </tr>\n",
       "    <tr>\n",
       "      <th>14</th>\n",
       "      <td>dfrange</td>\n",
       "      <td>0.499795</td>\n",
       "    </tr>\n",
       "    <tr>\n",
       "      <th>15</th>\n",
       "      <td>mode</td>\n",
       "      <td>0.456152</td>\n",
       "    </tr>\n",
       "    <tr>\n",
       "      <th>16</th>\n",
       "      <td>skew</td>\n",
       "      <td>0.374879</td>\n",
       "    </tr>\n",
       "    <tr>\n",
       "      <th>17</th>\n",
       "      <td>minfun</td>\n",
       "      <td>0.359317</td>\n",
       "    </tr>\n",
       "    <tr>\n",
       "      <th>18</th>\n",
       "      <td>meandom</td>\n",
       "      <td>0.213049</td>\n",
       "    </tr>\n",
       "    <tr>\n",
       "      <th>19</th>\n",
       "      <td>kurt</td>\n",
       "      <td>0.010576</td>\n",
       "    </tr>\n",
       "  </tbody>\n",
       "</table>\n",
       "</div>"
      ],
      "text/plain": [
       "    Variable  |Coefficient|\n",
       "0    meanfun      16.065356\n",
       "1        IQR       8.288698\n",
       "2        Q25       5.467757\n",
       "3     sp.ent       4.327213\n",
       "4        Q75       2.820941\n",
       "5     maxfun       2.258360\n",
       "6         sd       1.502921\n",
       "7     mindom       1.023748\n",
       "8     median       0.841442\n",
       "9    modindx       0.645621\n",
       "10  centroid       0.587137\n",
       "11  meanfreq       0.587137\n",
       "12    maxdom       0.523953\n",
       "13       sfm       0.513360\n",
       "14   dfrange       0.499795\n",
       "15      mode       0.456152\n",
       "16      skew       0.374879\n",
       "17    minfun       0.359317\n",
       "18   meandom       0.213049\n",
       "19      kurt       0.010576"
      ]
     },
     "execution_count": 19,
     "metadata": {},
     "output_type": "execute_result"
    }
   ],
   "source": [
    "importance = logistic_regression.coef_[0]\n",
    "importance_df = pd.DataFrame(list(zip(X.columns.values, abs(logistic_regression.coef_[0]))),\n",
    "               columns =['Variable', '|Coefficient|'])\n",
    "importance_df.sort_values(by = \"|Coefficient|\", ascending = False, ignore_index = True)"
   ]
  },
  {
   "cell_type": "markdown",
   "id": "partial-exclusion",
   "metadata": {},
   "source": [
    "# Naiwny Klasyfikator Bayesowski"
   ]
  },
  {
   "cell_type": "code",
   "execution_count": 28,
   "id": "simplified-ghost",
   "metadata": {
    "scrolled": true
   },
   "outputs": [
    {
     "name": "stdout",
     "output_type": "stream",
     "text": [
      "y:     [1.0, 0.0, 0.0, 1.0, 1.0, 0.0, 1.0, 0.0, 0.0, 0.0]\n",
      "y_hat: [1.0, 0.0, 0.0, 1.0, 1.0, 0.0, 1.0, 0.0, 0.0, 0.0]\n"
     ]
    }
   ],
   "source": [
    "from sklearn.naive_bayes import GaussianNB\n",
    "\n",
    "nb = GaussianNB()\n",
    "\n",
    "nb.fit(X_train, y_train)\n",
    "y_hat = nb.predict(X_test)\n",
    "print('y:     ' + str(y_hat[0:10].tolist()) + '\\ny_hat: ' + str(y_test[\"label\"].tolist()[0:10]))"
   ]
  },
  {
   "cell_type": "code",
   "execution_count": 29,
   "id": "rental-baking",
   "metadata": {
    "scrolled": true
   },
   "outputs": [
    {
     "data": {
      "text/plain": [
       "0.9176928870686816"
      ]
     },
     "execution_count": 29,
     "metadata": {},
     "output_type": "execute_result"
    }
   ],
   "source": [
    "score = cross_val_score(nb, X, y, scoring='accuracy', cv = 10)\n",
    "np.mean(score)"
   ]
  },
  {
   "cell_type": "code",
   "execution_count": 30,
   "id": "adopted-inside",
   "metadata": {
    "scrolled": false
   },
   "outputs": [
    {
     "data": {
      "image/png": "[encoded data removed]",
      "text/plain": [
       "<Figure size 432x288 with 1 Axes>"
      ]
     },
     "metadata": {
      "needs_background": "light"
     },
     "output_type": "display_data"
    }
   ],
   "source": [
    "plot_roc_curve(nb, X_test, y_test);"
   ]
  },
  {
   "cell_type": "code",
   "execution_count": 31,
   "id": "durable-screening",
   "metadata": {
    "scrolled": false
   },
   "outputs": [
    {
     "data": {
      "text/plain": [
       "0.9746979764421624"
      ]
     },
     "execution_count": 31,
     "metadata": {},
     "output_type": "execute_result"
    }
   ],
   "source": [
    "roc_auc_score(y_test, nb.predict_proba(X_test)[:,1])"
   ]
  },
  {
   "cell_type": "markdown",
   "id": "healthy-beijing",
   "metadata": {},
   "source": [
    "# Drzewo decyzyjne"
   ]
  },
  {
   "cell_type": "code",
   "execution_count": 32,
   "id": "southeast-drill",
   "metadata": {},
   "outputs": [
    {
     "name": "stdout",
     "output_type": "stream",
     "text": [
      "y:     [1.0, 0.0, 0.0, 1.0, 1.0, 0.0, 1.0, 0.0, 0.0, 0.0]\n",
      "y_hat: [1.0, 0.0, 0.0, 1.0, 1.0, 0.0, 1.0, 0.0, 0.0, 0.0]\n"
     ]
    }
   ],
   "source": [
    "from sklearn.tree import DecisionTreeClassifier, export_graphviz\n",
    "\n",
    "tree = DecisionTreeClassifier(max_depth = 3)\n",
    "\n",
    "tree.fit(X_train, y_train)\n",
    "y_hat = tree.predict(X_test)\n",
    "print('y:     ' + str(y_hat[0:10].tolist()) + '\\ny_hat: ' + str(y_test[\"label\"].tolist()[0:10]))"
   ]
  },
  {
   "cell_type": "code",
   "execution_count": 33,
   "id": "resident-investor",
   "metadata": {
    "scrolled": true
   },
   "outputs": [
    {
     "data": {
      "text/plain": [
       "0.9540413312620627"
      ]
     },
     "execution_count": 33,
     "metadata": {},
     "output_type": "execute_result"
    }
   ],
   "source": [
    "score = cross_val_score(tree, X, y, scoring='accuracy', cv = 10)\n",
    "np.mean(score)"
   ]
  },
  {
   "cell_type": "code",
   "execution_count": 34,
   "id": "opposed-albuquerque",
   "metadata": {
    "scrolled": false
   },
   "outputs": [
    {
     "data": {
      "image/png": "[encoded data removed]",
      "text/plain": [
       "<Figure size 432x288 with 1 Axes>"
      ]
     },
     "metadata": {
      "needs_background": "light"
     },
     "output_type": "display_data"
    }
   ],
   "source": [
    "plot_roc_curve(tree, X_test, y_test);"
   ]
  },
  {
   "cell_type": "code",
   "execution_count": 35,
   "id": "viral-russell",
   "metadata": {
    "scrolled": false
   },
   "outputs": [
    {
     "data": {
      "text/plain": [
       "0.9799192086982784"
      ]
     },
     "execution_count": 35,
     "metadata": {},
     "output_type": "execute_result"
    }
   ],
   "source": [
    "roc_auc_score(y_test, tree.predict_proba(X_test)[:,1])"
   ]
  },
  {
   "cell_type": "code",
   "execution_count": 36,
   "id": "romance-trunk",
   "metadata": {},
   "outputs": [],
   "source": [
    "import graphviz\n",
    "from sklearn.tree import export_graphviz\n",
    "import graphviz\n",
    "\n",
    "dot_graph = export_graphviz(tree, feature_names = X.columns.values, impurity = False, class_names = [\"Female\", \"Male\"], label = \"root\", rounded = True)\n",
    "    \n",
    "graph = graphviz.Source(dot_graph)\n",
    "graph.format = \"jpg\"\n",
    "graph.render();"
   ]
  },
  {
   "cell_type": "markdown",
   "id": "strategic-thread",
   "metadata": {},
   "source": [
    "![](Source.gv.jpg)"
   ]
  },
  {
   "cell_type": "code",
   "execution_count": 37,
   "id": "painted-egyptian",
   "metadata": {},
   "outputs": [
    {
     "data": {
      "text/html": [
       "<div>\n",
       "<style scoped>\n",
       "    .dataframe tbody tr th:only-of-type {\n",
       "        vertical-align: middle;\n",
       "    }\n",
       "\n",
       "    .dataframe tbody tr th {\n",
       "        vertical-align: top;\n",
       "    }\n",
       "\n",
       "    .dataframe thead th {\n",
       "        text-align: right;\n",
       "    }\n",
       "</style>\n",
       "<table border=\"1\" class=\"dataframe\">\n",
       "  <thead>\n",
       "    <tr style=\"text-align: right;\">\n",
       "      <th></th>\n",
       "      <th>Variable</th>\n",
       "      <th>Importance</th>\n",
       "    </tr>\n",
       "  </thead>\n",
       "  <tbody>\n",
       "    <tr>\n",
       "      <th>0</th>\n",
       "      <td>meanfun</td>\n",
       "      <td>0.933238</td>\n",
       "    </tr>\n",
       "    <tr>\n",
       "      <th>1</th>\n",
       "      <td>IQR</td>\n",
       "      <td>0.056362</td>\n",
       "    </tr>\n",
       "    <tr>\n",
       "      <th>2</th>\n",
       "      <td>sfm</td>\n",
       "      <td>0.008436</td>\n",
       "    </tr>\n",
       "    <tr>\n",
       "      <th>3</th>\n",
       "      <td>median</td>\n",
       "      <td>0.001963</td>\n",
       "    </tr>\n",
       "    <tr>\n",
       "      <th>4</th>\n",
       "      <td>meanfreq</td>\n",
       "      <td>0.000000</td>\n",
       "    </tr>\n",
       "    <tr>\n",
       "      <th>5</th>\n",
       "      <td>sd</td>\n",
       "      <td>0.000000</td>\n",
       "    </tr>\n",
       "    <tr>\n",
       "      <th>6</th>\n",
       "      <td>Q25</td>\n",
       "      <td>0.000000</td>\n",
       "    </tr>\n",
       "    <tr>\n",
       "      <th>7</th>\n",
       "      <td>Q75</td>\n",
       "      <td>0.000000</td>\n",
       "    </tr>\n",
       "    <tr>\n",
       "      <th>8</th>\n",
       "      <td>skew</td>\n",
       "      <td>0.000000</td>\n",
       "    </tr>\n",
       "    <tr>\n",
       "      <th>9</th>\n",
       "      <td>sp.ent</td>\n",
       "      <td>0.000000</td>\n",
       "    </tr>\n",
       "    <tr>\n",
       "      <th>10</th>\n",
       "      <td>mode</td>\n",
       "      <td>0.000000</td>\n",
       "    </tr>\n",
       "    <tr>\n",
       "      <th>11</th>\n",
       "      <td>minfun</td>\n",
       "      <td>0.000000</td>\n",
       "    </tr>\n",
       "    <tr>\n",
       "      <th>12</th>\n",
       "      <td>maxfun</td>\n",
       "      <td>0.000000</td>\n",
       "    </tr>\n",
       "    <tr>\n",
       "      <th>13</th>\n",
       "      <td>meandom</td>\n",
       "      <td>0.000000</td>\n",
       "    </tr>\n",
       "    <tr>\n",
       "      <th>14</th>\n",
       "      <td>maxdom</td>\n",
       "      <td>0.000000</td>\n",
       "    </tr>\n",
       "    <tr>\n",
       "      <th>15</th>\n",
       "      <td>modindx</td>\n",
       "      <td>0.000000</td>\n",
       "    </tr>\n",
       "  </tbody>\n",
       "</table>\n",
       "</div>"
      ],
      "text/plain": [
       "    Variable  Importance\n",
       "0    meanfun    0.933238\n",
       "1        IQR    0.056362\n",
       "2        sfm    0.008436\n",
       "3     median    0.001963\n",
       "4   meanfreq    0.000000\n",
       "5         sd    0.000000\n",
       "6        Q25    0.000000\n",
       "7        Q75    0.000000\n",
       "8       skew    0.000000\n",
       "9     sp.ent    0.000000\n",
       "10      mode    0.000000\n",
       "11    minfun    0.000000\n",
       "12    maxfun    0.000000\n",
       "13   meandom    0.000000\n",
       "14    maxdom    0.000000\n",
       "15   modindx    0.000000"
      ]
     },
     "execution_count": 37,
     "metadata": {},
     "output_type": "execute_result"
    }
   ],
   "source": [
    "name_list = []\n",
    "importance_list = []\n",
    "for name, importance in zip(X.columns, tree.feature_importances_):\n",
    "    name_list.append(name)\n",
    "    importance_list.append(importance)\n",
    "    \n",
    "importance_df = pd.DataFrame(list(zip(name_list, importance_list)),\n",
    "               columns =['Variable', 'Importance'])\n",
    "importance_df.sort_values(by = \"Importance\", ascending = False, ignore_index = True)"
   ]
  },
  {
   "cell_type": "markdown",
   "id": "individual-lithuania",
   "metadata": {},
   "source": [
    "# Stackowanie (DecisionTree, NB, LogisticRegression)"
   ]
  },
  {
   "cell_type": "code",
   "execution_count": 38,
   "id": "immediate-policy",
   "metadata": {},
   "outputs": [],
   "source": [
    "from sklearn.ensemble import StackingClassifier\n",
    "\n",
    "classifiers = [(\"DecisionTree\", tree), (\"NB\", nb), (\"LogisticRegression\", logistic_regression)]\n",
    "\n",
    "clf = StackingClassifier(estimators=classifiers, final_estimator=LogisticRegression())\n",
    "clf.fit(X_train, y_train);"
   ]
  },
  {
   "cell_type": "code",
   "execution_count": 39,
   "id": "comprehensive-transportation",
   "metadata": {},
   "outputs": [
    {
     "name": "stdout",
     "output_type": "stream",
     "text": [
      "y:     [1.0, 0.0, 0.0, 1.0, 1.0, 0.0, 1.0, 0.0, 0.0, 0.0]\n",
      "y_hat: [1.0, 0.0, 0.0, 1.0, 1.0, 0.0, 1.0, 0.0, 0.0, 0.0]\n"
     ]
    }
   ],
   "source": [
    "y_hat = clf.predict(X_test)\n",
    "print('y:     ' + str(y_hat[0:10].tolist()) + '\\ny_hat: ' + str(y_test[\"label\"].tolist()[0:10]))"
   ]
  },
  {
   "cell_type": "code",
   "execution_count": 40,
   "id": "sudden-mandate",
   "metadata": {},
   "outputs": [
    {
     "data": {
      "text/plain": [
       "0.9578119851245116"
      ]
     },
     "execution_count": 40,
     "metadata": {},
     "output_type": "execute_result"
    }
   ],
   "source": [
    "score = cross_val_score(clf, X, y, scoring='accuracy', cv = 10)\n",
    "np.mean(score)"
   ]
  },
  {
   "cell_type": "code",
   "execution_count": 41,
   "id": "hispanic-extent",
   "metadata": {
    "scrolled": true
   },
   "outputs": [
    {
     "data": {
      "image/png": "[encoded data removed]",
      "text/plain": [
       "<Figure size 432x288 with 1 Axes>"
      ]
     },
     "metadata": {
      "needs_background": "light"
     },
     "output_type": "display_data"
    }
   ],
   "source": [
    "plot_roc_curve(clf, X_test, y_test);"
   ]
  },
  {
   "cell_type": "code",
   "execution_count": 42,
   "id": "painted-uncle",
   "metadata": {},
   "outputs": [
    {
     "data": {
      "text/plain": [
       "0.9909694956206585"
      ]
     },
     "execution_count": 42,
     "metadata": {},
     "output_type": "execute_result"
    }
   ],
   "source": [
    "roc_auc_score(y_test, clf.predict_proba(X_test)[:,1])"
   ]
  },
  {
   "cell_type": "markdown",
   "id": "coated-convert",
   "metadata": {},
   "source": [
    "# XGBoost"
   ]
  },
  {
   "cell_type": "code",
   "execution_count": 43,
   "id": "further-discretion",
   "metadata": {
    "scrolled": true
   },
   "outputs": [],
   "source": [
    "from xgboost import XGBClassifier\n",
    "\n",
    "xgb = XGBClassifier(random_state=2, learning_rate=0.1, booster='gbtree', nround = 100, max_depth=4, verbosity = 0);\n",
    "xgb.fit(X_train, y_train);"
   ]
  },
  {
   "cell_type": "code",
   "execution_count": 44,
   "id": "interior-making",
   "metadata": {},
   "outputs": [
    {
     "name": "stdout",
     "output_type": "stream",
     "text": [
      "y:     [1.0, 0.0, 0.0, 1.0, 1.0, 0.0, 1.0, 0.0, 0.0, 0.0]\n",
      "y_hat: [1.0, 0.0, 0.0, 1.0, 1.0, 0.0, 1.0, 0.0, 0.0, 0.0]\n"
     ]
    }
   ],
   "source": [
    "y_hat = xgb.predict(X_test)\n",
    "print('y:     ' + str(y_hat[0:10].tolist()) + '\\ny_hat: ' + str(y_test[\"label\"].tolist()[0:10]))"
   ]
  },
  {
   "cell_type": "code",
   "execution_count": 45,
   "id": "catholic-confirmation",
   "metadata": {
    "scrolled": true
   },
   "outputs": [
    {
     "data": {
      "text/plain": [
       "0.969486419055689"
      ]
     },
     "execution_count": 45,
     "metadata": {},
     "output_type": "execute_result"
    }
   ],
   "source": [
    "score = cross_val_score(xgb, X, y, scoring='accuracy', cv = 10)\n",
    "np.mean(score)"
   ]
  },
  {
   "cell_type": "code",
   "execution_count": 46,
   "id": "cooked-train",
   "metadata": {
    "scrolled": true
   },
   "outputs": [
    {
     "data": {
      "image/png": "[encoded data removed]",
      "text/plain": [
       "<Figure size 432x288 with 1 Axes>"
      ]
     },
     "metadata": {
      "needs_background": "light"
     },
     "output_type": "display_data"
    }
   ],
   "source": [
    "plot_roc_curve(xgb, X_test, y_test);"
   ]
  },
  {
   "cell_type": "code",
   "execution_count": 47,
   "id": "valued-notice",
   "metadata": {
    "scrolled": true
   },
   "outputs": [
    {
     "data": {
      "text/plain": [
       "0.9961718514044094"
      ]
     },
     "execution_count": 47,
     "metadata": {},
     "output_type": "execute_result"
    }
   ],
   "source": [
    "roc_auc_score(y_test, xgb.predict_proba(X_test)[:,1])"
   ]
  }
 ],
 "metadata": {
  "kernelspec": {
   "display_name": "Python 3",
   "language": "python",
   "name": "python3"
  },
  "language_info": {
   "codemirror_mode": {
    "name": "ipython",
    "version": 3
   },
   "file_extension": ".py",
   "mimetype": "text/x-python",
   "name": "python",
   "nbconvert_exporter": "python",
   "pygments_lexer": "ipython3",
   "version": "3.8.8"
  }
 },
 "nbformat": 4,
 "nbformat_minor": 5
}
